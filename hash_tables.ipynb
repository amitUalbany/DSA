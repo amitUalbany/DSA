{
 "cells": [
  {
   "cell_type": "markdown",
   "id": "6e2ec75c",
   "metadata": {},
   "source": [
    "### Steps to build hash tables:\n",
    "1. Starting with an array. <br>\n",
    "2. Storing names/numbers using a hash function. <br>\n",
    "3. Looking up for an element using a hash function. <br>\n",
    "4. Handling collisions. <br>"
   ]
  },
  {
   "cell_type": "code",
   "execution_count": 36,
   "id": "e3163e6b",
   "metadata": {},
   "outputs": [
    {
     "data": {
      "text/plain": [
       "[[], [], [], [], [], [], [], [], [], []]"
      ]
     },
     "execution_count": 36,
     "metadata": {},
     "output_type": "execute_result"
    }
   ],
   "source": [
    "# 2D array of size 10. inner list is to address any colision.\n",
    "\n",
    "array = ['Amy', 'Bob', 'Pete', 'Chandler', 'Joey', 'Ross']\n",
    "base_hashset = [[] for i in range(10)]\n",
    "base_hashset"
   ]
  },
  {
   "cell_type": "code",
   "execution_count": 15,
   "id": "f4a9e7c5",
   "metadata": {},
   "outputs": [
    {
     "data": {
      "text/plain": [
       "[5, 5, 8, 1, 7, 3]"
      ]
     },
     "execution_count": 15,
     "metadata": {},
     "output_type": "execute_result"
    }
   ],
   "source": [
    "# Hash function returns the hash code which defines the index of elements to be stored\n",
    "\n",
    "def hash_function(name: str) -> int:\n",
    "    return (sum(ord(char) for char in name) % 10)\n",
    "\n",
    "[hash_function(name) for name in array]"
   ]
  },
  {
   "cell_type": "code",
   "execution_count": 37,
   "id": "6de62a18",
   "metadata": {},
   "outputs": [],
   "source": [
    "# Using the obtained hash code, store the values\n",
    "\n",
    "def add(value):\n",
    "    index = hash_function(value)\n",
    "    bucket = base_hashset[index] # selecting the inner list to be updated\n",
    "    \n",
    "    if value not in bucket:\n",
    "        bucket.append(value)\n",
    "        \n",
    "def contain(value):\n",
    "    index = hash_function(value)\n",
    "    bucket = base_hashset[index]\n",
    "    \n",
    "    return (value in bucket)"
   ]
  },
  {
   "cell_type": "code",
   "execution_count": 38,
   "id": "aabf99fa",
   "metadata": {},
   "outputs": [
    {
     "name": "stdout",
     "output_type": "stream",
     "text": [
      "[[], [], [], [], [], [], [], [], [], []]\n",
      "[[], [], [], [], [], ['Friends'], [], [], [], []]\n",
      "True False\n"
     ]
    }
   ],
   "source": [
    "print(base_hashset)\n",
    "\n",
    "add(\"Friends\")\n",
    "\n",
    "print(base_hashset)\n",
    "print(contain('Friends'), contain('Amy'))"
   ]
  },
  {
   "cell_type": "code",
   "execution_count": 39,
   "id": "f6df4874",
   "metadata": {},
   "outputs": [
    {
     "name": "stdout",
     "output_type": "stream",
     "text": [
      "[[], ['Chandler'], [], ['Ross'], [], ['Friends', 'Amy', 'Bob'], [], ['Joey'], ['Pete'], []]\n"
     ]
    }
   ],
   "source": [
    "[add(name) for name in array]\n",
    "print(base_hashset)"
   ]
  },
  {
   "cell_type": "code",
   "execution_count": 48,
   "id": "860972b3",
   "metadata": {},
   "outputs": [],
   "source": [
    "class HashSet:\n",
    "    '''\n",
    "    Creating Hash Set from scratch\n",
    "    Input: Array of inputs, ex: [x, y, z]\n",
    "    output: Each value's hash code is generated and value is stored \n",
    "    '''\n",
    "    \n",
    "    def __init__(self, size=10):\n",
    "        self.size = size\n",
    "        self.buckets = [[] for _ in range(self.size)]\n",
    "        \n",
    "    def hash_function(name: str) -> int:\n",
    "        return (sum(ord(char) for char in name) % self.size)\n",
    "        \n",
    "    def add(self, value):\n",
    "        index = hash_function(value)\n",
    "        bucket = self.buckets[index]\n",
    "        \n",
    "        if value not in bucket:\n",
    "            bucket.append(value)\n",
    "\n",
    "    def remove(self, value):\n",
    "        index = hash_function(value)\n",
    "        bucket= self.buckets[index]\n",
    "        \n",
    "        if value in bucket:\n",
    "            bucket.remove(value)\n",
    "        else:\n",
    "            print(f\"Error! No such value, {value}, exist to be deleted.\")\n",
    "            \n",
    "    def contain(self, value):\n",
    "        index = hash_function(value)\n",
    "        bucket = base_hashset[index]\n",
    "\n",
    "        return (value in bucket)\n",
    "    \n",
    "    def print_hashset(self):\n",
    "        print(\"HashSet:\")\n",
    "        for index, bucket in enumerate(self.buckets):\n",
    "            print(f\"{index} : {bucket}\")"
   ]
  },
  {
   "cell_type": "code",
   "execution_count": 46,
   "id": "babe2e75",
   "metadata": {},
   "outputs": [
    {
     "name": "stdout",
     "output_type": "stream",
     "text": [
      "True\n",
      "HashSet:\n",
      "0 : []\n",
      "1 : []\n",
      "2 : []\n",
      "3 : ['Ross']\n",
      "4 : []\n",
      "5 : []\n",
      "6 : []\n",
      "7 : []\n",
      "8 : []\n",
      "9 : []\n",
      "None\n"
     ]
    }
   ],
   "source": [
    "hash_set = HashSet(10)\n",
    "\n",
    "hash_set.add('Ross')\n",
    "\n",
    "print(hash_set.contain('Ross'))\n",
    "\n",
    "print(hash_set.print_hashset())"
   ]
  },
  {
   "cell_type": "code",
   "execution_count": 47,
   "id": "3168613e",
   "metadata": {},
   "outputs": [
    {
     "name": "stdout",
     "output_type": "stream",
     "text": [
      "HashSet:\n",
      "0 : []\n",
      "1 : ['Chandler']\n",
      "2 : []\n",
      "3 : ['Ross']\n",
      "4 : []\n",
      "5 : ['Amy', 'Bob']\n",
      "6 : []\n",
      "7 : ['Joey']\n",
      "8 : ['Pete']\n",
      "9 : []\n"
     ]
    }
   ],
   "source": [
    "for name in array:\n",
    "    hash_set.add(name)\n",
    "    \n",
    "hash_set.print_hashset()"
   ]
  },
  {
   "cell_type": "code",
   "execution_count": 89,
   "id": "2e88679a",
   "metadata": {},
   "outputs": [],
   "source": [
    "class HashMap:\n",
    "    '''\n",
    "    Create Hash Map from scratch\n",
    "    Input: Tuple of key, value: (k,v)\n",
    "    Output: Hash code of key is used for storing and searching the value\n",
    "    '''\n",
    "    \n",
    "    def __init__(self, size=10):\n",
    "        self.size = size\n",
    "        self.buckets = [[] for _ in range(size)]\n",
    "        \n",
    "    def hash_function(self, key):\n",
    "        numeric_sum = sum(int(char) for char in key if char.isdigit())\n",
    "        alpha_sum = sum(ord(char) for char in key if not char.isdigit())\n",
    "        \n",
    "        return (numeric_sum % self.size if numeric_sum !=0 else alpha_sum % self.size)\n",
    "    \n",
    "    def put(self, key, value):\n",
    "        index = self.hash_function(key)\n",
    "        \n",
    "        bucket = self.buckets[index]\n",
    "        \n",
    "        for i, (k,v) in enumerate(bucket):\n",
    "            if k == key:\n",
    "                bucket[i] = (key, value) # update existing value\n",
    "                return\n",
    "            \n",
    "        bucket.append((key,value)) # Add new k,v \n",
    "                \n",
    "    def get(self, key):\n",
    "        index = self.hash_function(key)\n",
    "        bucket = self.buckets[index]\n",
    "        \n",
    "        for (k,v) in bucket:\n",
    "            return (v if k==key else \"None\")\n",
    "        \n",
    "    def delete(self, key):\n",
    "        index = self.hash_function(key)\n",
    "        bucket = self.buckets[index]\n",
    "        \n",
    "        for i, (k,v) in enumerate(bucket):\n",
    "            if k==key:\n",
    "                del bucket[i]\n",
    "            \n",
    "    def print_hash_map(self):\n",
    "        print(\"Hash Map:\")\n",
    "        for index, bucket in enumerate(self.buckets):\n",
    "            print(f\"{index}: {bucket}\")\n",
    "    "
   ]
  },
  {
   "cell_type": "code",
   "execution_count": 94,
   "id": "4b631cda",
   "metadata": {},
   "outputs": [
    {
     "name": "stdout",
     "output_type": "stream",
     "text": [
      "Ross\n",
      "Hash Map:\n",
      "0: [('123-4569', 'Jens')]\n",
      "1: [('123-456', 'Ross')]\n",
      "2: [('123-4570', 'Peter')]\n",
      "3: [('123-4571', 'Lisa')]\n",
      "4: []\n",
      "5: [('123-4672', 'Adele'), ('123-4573', 'Michaela')]\n",
      "6: []\n",
      "7: []\n",
      "8: [('ABC', '123'), ('123-4567', 'Charlotte'), ('123-6574', 'Bob')]\n",
      "9: [('123-4568', 'Thomas')]\n"
     ]
    }
   ],
   "source": [
    "\n",
    "if __name__ == '__main__':\n",
    "    hash_map = HashMap(10)\n",
    "\n",
    "    hash_map.put(\"123-456\", \"Ross\")\n",
    "    hash_map.put(\"ABC\", \"123\")\n",
    "\n",
    "    print(hash_map.get(\"123-456\"))\n",
    "    \n",
    "    # Adding some entries\n",
    "    hash_map.put(\"123-4567\", \"Charlotte\")\n",
    "    hash_map.put(\"123-4568\", \"Thomas\")\n",
    "    hash_map.put(\"123-4569\", \"Jens\")\n",
    "    hash_map.put(\"123-4570\", \"Peter\")\n",
    "    hash_map.put(\"123-4571\", \"Lisa\")\n",
    "    hash_map.put(\"123-4672\", \"Adele\")\n",
    "    hash_map.put(\"123-4573\", \"Michaela\")\n",
    "    hash_map.put(\"123-6574\", \"Bob\")\n",
    "\n",
    "    hash_map.print_hash_map()"
   ]
  },
  {
   "cell_type": "code",
   "execution_count": null,
   "id": "960ec589",
   "metadata": {},
   "outputs": [],
   "source": []
  }
 ],
 "metadata": {
  "kernelspec": {
   "display_name": "Python 3 (ipykernel)",
   "language": "python",
   "name": "python3"
  },
  "language_info": {
   "codemirror_mode": {
    "name": "ipython",
    "version": 3
   },
   "file_extension": ".py",
   "mimetype": "text/x-python",
   "name": "python",
   "nbconvert_exporter": "python",
   "pygments_lexer": "ipython3",
   "version": "3.9.13"
  }
 },
 "nbformat": 4,
 "nbformat_minor": 5
}
