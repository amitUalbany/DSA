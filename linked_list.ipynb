{
 "cells": [
  {
   "cell_type": "markdown",
   "id": "13d03648",
   "metadata": {},
   "source": [
    "### Linked Lists implementation"
   ]
  },
  {
   "cell_type": "code",
   "execution_count": 5,
   "id": "5f6334a0",
   "metadata": {},
   "outputs": [
    {
     "name": "stdout",
     "output_type": "stream",
     "text": [
      "5->8->20->15->null\n"
     ]
    }
   ],
   "source": [
    "class Node:\n",
    "    def __init__(self, data):\n",
    "        self.data = data\n",
    "        self.next = None\n",
    "        \n",
    "node1 = Node(5)\n",
    "node2 = Node(8)\n",
    "node3 = Node(20)\n",
    "node4 = Node(15)\n",
    "\n",
    "node1.next = node2\n",
    "node2.next = node3\n",
    "node3.next = node4\n",
    "\n",
    "current_node = node1\n",
    "while current_node:\n",
    "    print(current_node.data, end='->')\n",
    "    current_node = current_node.next\n",
    "print('null')"
   ]
  },
  {
   "cell_type": "code",
   "execution_count": 11,
   "id": "f1a7d51b",
   "metadata": {},
   "outputs": [],
   "source": [
    "# Take a list and create Linked List\n",
    "\n",
    "class Node:\n",
    "    def __init__(self, data):\n",
    "        self.data = data\n",
    "        self.next = None\n",
    "        \n",
    "        \n",
    "class LinkedList:\n",
    "    def __init__(self):\n",
    "        self.head = None         # Initiallly the list is empty\n",
    "        \n",
    "    def insert(self, data, position=None):\n",
    "        new_node = Node(data)\n",
    "        \n",
    "        # Case-1: insert in the beginning when the case is empty\n",
    "        if self.head is None or position==0:\n",
    "            self.head = new_node\n",
    "            self.head.next = None\n",
    "            return\n",
    "        \n",
    "        # Case-2: insert at a specific position\n",
    "        current = self.head\n",
    "        count = 0\n",
    "        \n",
    "        # Trverse to the postion and insert\n",
    "        while current.next is not None and count < position-1:\n",
    "            current = current.next\n",
    "            count += 1\n",
    "            \n",
    "        # Insert the node\n",
    "        new_node.next = current.next\n",
    "        current.next = new_node\n",
    "        \n",
    "    def travsrse_and_print(self):\n",
    "        current = self.head\n",
    "        while current:\n",
    "            print(current.data, end='->')\n",
    "            current = current.next\n",
    "        print('null')"
   ]
  },
  {
   "cell_type": "code",
   "execution_count": 12,
   "id": "36dd6f3e",
   "metadata": {},
   "outputs": [
    {
     "name": "stdout",
     "output_type": "stream",
     "text": [
      "5->19->15->78->22->null\n",
      "5->19->15->100->78->22->null\n"
     ]
    }
   ],
   "source": [
    "ll = LinkedList()\n",
    "\n",
    "# Insert\n",
    "ll.insert(5, 0)\n",
    "ll.insert(19, 1)\n",
    "ll.insert(15, 2)\n",
    "ll.insert(78, 3)\n",
    "ll.insert(22, 4)\n",
    "\n",
    "# print the list\n",
    "ll.travsrse_and_print()\n",
    "\n",
    "ll.insert(100,3)\n",
    "ll.travsrse_and_print()"
   ]
  },
  {
   "cell_type": "code",
   "execution_count": null,
   "id": "a9d9f42e",
   "metadata": {},
   "outputs": [],
   "source": []
  }
 ],
 "metadata": {
  "kernelspec": {
   "display_name": "Python 3 (ipykernel)",
   "language": "python",
   "name": "python3"
  },
  "language_info": {
   "codemirror_mode": {
    "name": "ipython",
    "version": 3
   },
   "file_extension": ".py",
   "mimetype": "text/x-python",
   "name": "python",
   "nbconvert_exporter": "python",
   "pygments_lexer": "ipython3",
   "version": "3.9.13"
  }
 },
 "nbformat": 4,
 "nbformat_minor": 5
}
