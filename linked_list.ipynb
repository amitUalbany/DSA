{
 "cells": [
  {
   "cell_type": "markdown",
   "id": "3e32f4c4",
   "metadata": {},
   "source": [
    "### Linked Lists implementation"
   ]
  },
  {
   "cell_type": "code",
   "execution_count": 2,
   "id": "be100df0",
   "metadata": {},
   "outputs": [
    {
     "name": "stdout",
     "output_type": "stream",
     "text": [
      "<__main__.Node object at 0x000001701E06C550>-><__main__.Node object at 0x000001701E06C9D0>-><__main__.Node object at 0x000001701E06C940>-><__main__.Node object at 0x000001701E06CA90>->null\n"
     ]
    }
   ],
   "source": [
    "class Node:\n",
    "    def __init__(self, data):\n",
    "        self.data = data\n",
    "        self.next = None\n",
    "        \n",
    "node1 = Node(5)\n",
    "node2 = Node(8)\n",
    "node3 = Node(20)\n",
    "node4 = Node(15)\n",
    "\n",
    "node1.next = node2\n",
    "node2.next = node3\n",
    "node3.next = node4\n",
    "\n",
    "current_node = node1\n",
    "while current_node:\n",
    "    print(current_node, end='->')\n",
    "    current_node = current_node.next\n",
    "print('null')"
   ]
  },
  {
   "cell_type": "code",
   "execution_count": null,
   "id": "57dfcc29",
   "metadata": {},
   "outputs": [],
   "source": []
  }
 ],
 "metadata": {
  "kernelspec": {
   "display_name": "Python 3 (ipykernel)",
   "language": "python",
   "name": "python3"
  },
  "language_info": {
   "codemirror_mode": {
    "name": "ipython",
    "version": 3
   },
   "file_extension": ".py",
   "mimetype": "text/x-python",
   "name": "python",
   "nbconvert_exporter": "python",
   "pygments_lexer": "ipython3",
   "version": "3.9.13"
  }
 },
 "nbformat": 4,
 "nbformat_minor": 5
}
